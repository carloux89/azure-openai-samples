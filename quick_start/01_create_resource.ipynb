{
 "cells": [
  {
   "cell_type": "code",
   "execution_count": 37,
   "metadata": {},
   "outputs": [
    {
     "name": "stderr",
     "output_type": "stream",
     "text": [
      "WARNING: Please select the account you want to log in with.\n",
      "WARNING: The following tenants require Multi-Factor Authentication (MFA). Use 'az login --tenant TENANT_ID' to explicitly login to a tenant.\n",
      "WARNING: 72ba1461-30cf-4610-ae0e-54dab87c7b66 'R�pertoire par d�faut'\n",
      "ERROR: No subscriptions found for aaafcd89@hotmail.com.\n"
     ]
    }
   ],
   "source": [
    "# Login to Azure\n",
    "!az login"
   ]
  },
  {
   "cell_type": "code",
   "execution_count": 38,
   "metadata": {},
   "outputs": [
    {
     "name": "stderr",
     "output_type": "stream",
     "text": [
      "La syntaxe de la commande n'est pas correcte.\n"
     ]
    }
   ],
   "source": [
    "# Use Non-prod subscription\n",
    "!az account set --subscription  <your subscription name>"
   ]
  },
  {
   "cell_type": "code",
   "execution_count": 39,
   "metadata": {},
   "outputs": [
    {
     "name": "stdout",
     "output_type": "stream",
     "text": [
      "{\n",
      "  \"id\": \"/subscriptions/e80b1a77-1ed8-4762-8838-c6695463908d/resourceGroups/OAIResourceGroup\",\n",
      "  \"location\": \"southcentralus\",\n",
      "  \"managedBy\": null,\n",
      "  \"name\": \"OAIResourceGroup\",\n",
      "  \"properties\": {\n",
      "    \"provisioningState\": \"Succeeded\"\n",
      "  },\n",
      "  \"tags\": null,\n",
      "  \"type\": \"Microsoft.Resources/resourceGroups\"\n",
      "}\n"
     ]
    }
   ],
   "source": [
    "openai_rg_name = 'OAIResourceGroup'\n",
    "openai_svc_name = 'MyOpenAIResource'\n",
    "!az group create --name $openai_rg_name --location southcentralus"
   ]
  },
  {
   "attachments": {},
   "cell_type": "markdown",
   "metadata": {},
   "source": [
    "# Create OpenAI service\n",
    "Update -l parameter value for a new endpoint uri"
   ]
  },
  {
   "cell_type": "code",
   "execution_count": 40,
   "metadata": {},
   "outputs": [
    {
     "name": "stderr",
     "output_type": "stream",
     "text": [
      "WARNING: Subscription '8480def5-8f7a-4285-99f7-295b61d7b22a' not recognized.\n",
      "ERROR: Subscription '8480def5-8f7a-4285-99f7-295b61d7b22a' not found. Check the spelling and casing and try again.\n"
     ]
    }
   ],
   "source": [
    "# Wait until the resource group is created\n",
    "# Create OpenAI service\n",
    "!az cognitiveservices account create -n $openai_svc_name -g $openai_rg_name -l southcentralus --kind OpenAI --sku s0 --subscription 8480def5-8f7a-4285-99f7-295b61d7b22a"
   ]
  },
  {
   "cell_type": "code",
   "execution_count": 41,
   "metadata": {},
   "outputs": [
    {
     "name": "stderr",
     "output_type": "stream",
     "text": [
      "ERROR: (DisallowedProvider) The operation is not permitted for namespace 'Microsoft.CognitiveServices'. List of permitted provider namespaces is 'Microsoft.Authorization,Microsoft.Billing,Microsoft.Education,Microsoft.Features,microsoft.insights,Microsoft.NotificationHubs,Microsoft.Resources,Microsoft.Sql,Microsoft.Subscription,microsoft.support,microsoft.visualstudio,Microsoft.Web'.\n",
      "Code: DisallowedProvider\n",
      "Message: The operation is not permitted for namespace 'Microsoft.CognitiveServices'. List of permitted provider namespaces is 'Microsoft.Authorization,Microsoft.Billing,Microsoft.Education,Microsoft.Features,microsoft.insights,Microsoft.NotificationHubs,Microsoft.Resources,Microsoft.Sql,Microsoft.Subscription,microsoft.support,microsoft.visualstudio,Microsoft.Web'.\n"
     ]
    }
   ],
   "source": [
    "!az cognitiveservices account show -n $openai_svc_name -g $openai_rg_name "
   ]
  },
  {
   "cell_type": "code",
   "execution_count": 42,
   "metadata": {},
   "outputs": [
    {
     "name": "stderr",
     "output_type": "stream",
     "text": [
      "ERROR: (DisallowedProvider) The operation is not permitted for namespace 'Microsoft.CognitiveServices'. List of permitted provider namespaces is 'Microsoft.Authorization,Microsoft.Billing,Microsoft.Education,Microsoft.Features,microsoft.insights,Microsoft.NotificationHubs,Microsoft.Resources,Microsoft.Sql,Microsoft.Subscription,microsoft.support,microsoft.visualstudio,Microsoft.Web'.\n",
      "Code: DisallowedProvider\n",
      "Message: The operation is not permitted for namespace 'Microsoft.CognitiveServices'. List of permitted provider namespaces is 'Microsoft.Authorization,Microsoft.Billing,Microsoft.Education,Microsoft.Features,microsoft.insights,Microsoft.NotificationHubs,Microsoft.Resources,Microsoft.Sql,Microsoft.Subscription,microsoft.support,microsoft.visualstudio,Microsoft.Web'.\n"
     ]
    }
   ],
   "source": [
    "!az cognitiveservices account keys list -n $openai_svc_name -g $openai_rg_name "
   ]
  },
  {
   "cell_type": "code",
   "execution_count": 43,
   "metadata": {},
   "outputs": [
    {
     "name": "stderr",
     "output_type": "stream",
     "text": [
      "ERROR: (DisallowedProvider) The operation is not permitted for namespace 'Microsoft.CognitiveServices'. List of permitted provider namespaces is 'Microsoft.Authorization,Microsoft.Billing,Microsoft.Education,Microsoft.Features,microsoft.insights,Microsoft.NotificationHubs,Microsoft.Resources,Microsoft.Sql,Microsoft.Subscription,microsoft.support,microsoft.visualstudio,Microsoft.Web'.\n",
      "Code: DisallowedProvider\n",
      "Message: The operation is not permitted for namespace 'Microsoft.CognitiveServices'. List of permitted provider namespaces is 'Microsoft.Authorization,Microsoft.Billing,Microsoft.Education,Microsoft.Features,microsoft.insights,Microsoft.NotificationHubs,Microsoft.Resources,Microsoft.Sql,Microsoft.Subscription,microsoft.support,microsoft.visualstudio,Microsoft.Web'.\n"
     ]
    }
   ],
   "source": [
    "# Deploy a model\n",
    "search_doc_deployment_name = 'curie-search-doc'\n",
    "search_doc_model = 'text-search-curie-doc-001'\n",
    "search_query_deployment_name = 'curie-search-query'\n",
    "search_query_model = 'text-search-curie-query-001'\n",
    "text_deployment_name = 'text-davinci-002'\n",
    "text_model = 'text-davinci-002'\n",
    "\n",
    "!az cognitiveservices account deployment create -g $openai_rg_name -n $openai_svc_name --deployment-name $search_doc_deployment_name --model-name $search_doc_model --model-version \"1\"  --model-format OpenAI --scale-settings-scale-type \"Standard\""
   ]
  },
  {
   "cell_type": "code",
   "execution_count": 44,
   "metadata": {},
   "outputs": [
    {
     "name": "stderr",
     "output_type": "stream",
     "text": [
      "ERROR: (DisallowedProvider) The operation is not permitted for namespace 'Microsoft.CognitiveServices'. List of permitted provider namespaces is 'Microsoft.Authorization,Microsoft.Billing,Microsoft.Education,Microsoft.Features,microsoft.insights,Microsoft.NotificationHubs,Microsoft.Resources,Microsoft.Sql,Microsoft.Subscription,microsoft.support,microsoft.visualstudio,Microsoft.Web'.\n",
      "Code: DisallowedProvider\n",
      "Message: The operation is not permitted for namespace 'Microsoft.CognitiveServices'. List of permitted provider namespaces is 'Microsoft.Authorization,Microsoft.Billing,Microsoft.Education,Microsoft.Features,microsoft.insights,Microsoft.NotificationHubs,Microsoft.Resources,Microsoft.Sql,Microsoft.Subscription,microsoft.support,microsoft.visualstudio,Microsoft.Web'.\n",
      "ERROR: (DisallowedProvider) The operation is not permitted for namespace 'Microsoft.CognitiveServices'. List of permitted provider namespaces is 'Microsoft.Authorization,Microsoft.Billing,Microsoft.Education,Microsoft.Features,microsoft.insights,Microsoft.NotificationHubs,Microsoft.Resources,Microsoft.Sql,Microsoft.Subscription,microsoft.support,microsoft.visualstudio,Microsoft.Web'.\n",
      "Code: DisallowedProvider\n",
      "Message: The operation is not permitted for namespace 'Microsoft.CognitiveServices'. List of permitted provider namespaces is 'Microsoft.Authorization,Microsoft.Billing,Microsoft.Education,Microsoft.Features,microsoft.insights,Microsoft.NotificationHubs,Microsoft.Resources,Microsoft.Sql,Microsoft.Subscription,microsoft.support,microsoft.visualstudio,Microsoft.Web'.\n"
     ]
    }
   ],
   "source": [
    "!az cognitiveservices account deployment create -g $openai_rg_name -n $openai_svc_name --deployment-name $search_query_deployment_name --model-name $search_query_model --model-version \"1\"  --model-format OpenAI --scale-settings-scale-type \"Standard\"\n",
    "!az cognitiveservices account deployment create -g $openai_rg_name -n $openai_svc_name --deployment-name $text_deployment_name --model-name $text_model --model-version \"1\"  --model-format OpenAI --scale-settings-scale-type \"Standard\""
   ]
  },
  {
   "cell_type": "code",
   "execution_count": null,
   "metadata": {},
   "outputs": [],
   "source": []
  }
 ],
 "metadata": {
  "kernelspec": {
   "display_name": "azureml_py310_sdkv2",
   "language": "python",
   "name": "python3"
  },
  "language_info": {
   "codemirror_mode": {
    "name": "ipython",
    "version": 3
   },
   "file_extension": ".py",
   "mimetype": "text/x-python",
   "name": "python",
   "nbconvert_exporter": "python",
   "pygments_lexer": "ipython3",
   "version": "3.11.3"
  },
  "orig_nbformat": 4,
  "vscode": {
   "interpreter": {
    "hash": "2139c70ac98f3202d028164a545621647e07f47fd6f5d8ac55cf952bf7c15ed1"
   }
  }
 },
 "nbformat": 4,
 "nbformat_minor": 2
}
