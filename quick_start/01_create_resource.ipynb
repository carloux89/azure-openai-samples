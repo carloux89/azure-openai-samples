{
 "cells": [
  {
   "cell_type": "code",
   "execution_count": 1,
   "metadata": {},
   "outputs": [
    {
     "name": "stdout",
     "output_type": "stream",
     "text": [
      "["
     ]
    },
    {
     "name": "stderr",
     "output_type": "stream",
     "text": [
      "WARNING: Please select the account you want to log in with.\n",
      "WARNING: The following tenants don't contain accessible subscriptions. Use 'az login --allow-no-subscriptions' to have tenant level access.\n",
      "WARNING: 604c1504-c6a3-4080-81aa-b33091104187 'Microsoft Learn Sandbox'\n",
      "WARNING: The following tenants require Multi-Factor Authentication (MFA). Use 'az login --tenant TENANT_ID' to explicitly login to a tenant.\n",
      "WARNING: 75fb02a8-14f2-4f6b-b51a-0e5d6d44209a 'ibm'\n"
     ]
    },
    {
     "name": "stdout",
     "output_type": "stream",
     "text": [
      "\n",
      "  {\n",
      "    \"cloudName\": \"AzureCloud\",\n",
      "    \"homeTenantId\": \"d4e72333-1b0d-48bc-b8a7-173ee6281e3b\",\n",
      "    \"id\": \"e80b1a77-1ed8-4762-8838-c6695463908d\",\n",
      "    \"isDefault\": true,\n",
      "    \"managedByTenants\": [],\n",
      "    \"name\": \"Kit de d�marrage Azure pour les �tudiants\",\n",
      "    \"state\": \"Enabled\",\n",
      "    \"tenantId\": \"d4e72333-1b0d-48bc-b8a7-173ee6281e3b\",\n",
      "    \"user\": {\n",
      "      \"name\": \"cloutier.carl@univ.teluq.ca\",\n",
      "      \"type\": \"user\"\n",
      "    }\n",
      "  }\n",
      "]\n"
     ]
    }
   ],
   "source": [
    "# Login to Azure\n",
    "!az login"
   ]
  },
  {
   "cell_type": "code",
   "execution_count": 2,
   "metadata": {},
   "outputs": [
    {
     "name": "stderr",
     "output_type": "stream",
     "text": [
      "La syntaxe de la commande n'est pas correcte.\n"
     ]
    }
   ],
   "source": [
    "# Use Non-prod subscription\n",
    "!az account set --subscription  <your subscription name>"
   ]
  },
  {
   "cell_type": "code",
   "execution_count": 3,
   "metadata": {},
   "outputs": [
    {
     "name": "stdout",
     "output_type": "stream",
     "text": [
      "{\n",
      "  \"id\": \"/subscriptions/e80b1a77-1ed8-4762-8838-c6695463908d/resourceGroups/OAIResourceGroup\",\n",
      "  \"location\": \"southcentralus\",\n",
      "  \"managedBy\": null,\n",
      "  \"name\": \"OAIResourceGroup\",\n",
      "  \"properties\": {\n",
      "    \"provisioningState\": \"Succeeded\"\n",
      "  },\n",
      "  \"tags\": null,\n",
      "  \"type\": \"Microsoft.Resources/resourceGroups\"\n",
      "}\n"
     ]
    }
   ],
   "source": [
    "openai_rg_name = 'OAIResourceGroup'\n",
    "openai_svc_name = 'MyOpenAIResource'\n",
    "!az group create --name $openai_rg_name --location southcentralus"
   ]
  },
  {
   "attachments": {},
   "cell_type": "markdown",
   "metadata": {},
   "source": [
    "# Create OpenAI service\n",
    "Update -l parameter value for a new endpoint uri"
   ]
  },
  {
   "cell_type": "code",
   "execution_count": 4,
   "metadata": {},
   "outputs": [
    {
     "name": "stderr",
     "output_type": "stream",
     "text": [
      "WARNING: Subscription '8480def5-8f7a-4285-99f7-295b61d7b22a' not recognized.\n",
      "ERROR: Subscription '8480def5-8f7a-4285-99f7-295b61d7b22a' not found. Check the spelling and casing and try again.\n"
     ]
    }
   ],
   "source": [
    "# Wait until the resource group is created\n",
    "# Create OpenAI service\n",
    "!az cognitiveservices account create -n $openai_svc_name -g $openai_rg_name -l southcentralus --kind OpenAI --sku s0 --subscription 8480def5-8f7a-4285-99f7-295b61d7b22a"
   ]
  },
  {
   "cell_type": "code",
   "execution_count": 5,
   "metadata": {},
   "outputs": [
    {
     "name": "stderr",
     "output_type": "stream",
     "text": [
      "ERROR: (DisallowedProvider) The operation is not permitted for namespace 'Microsoft.CognitiveServices'. List of permitted provider namespaces is 'Microsoft.Authorization,Microsoft.Billing,Microsoft.Education,Microsoft.Features,microsoft.insights,Microsoft.NotificationHubs,Microsoft.Resources,Microsoft.Sql,Microsoft.Subscription,microsoft.support,microsoft.visualstudio,Microsoft.Web'.\n",
      "Code: DisallowedProvider\n",
      "Message: The operation is not permitted for namespace 'Microsoft.CognitiveServices'. List of permitted provider namespaces is 'Microsoft.Authorization,Microsoft.Billing,Microsoft.Education,Microsoft.Features,microsoft.insights,Microsoft.NotificationHubs,Microsoft.Resources,Microsoft.Sql,Microsoft.Subscription,microsoft.support,microsoft.visualstudio,Microsoft.Web'.\n"
     ]
    }
   ],
   "source": [
    "!az cognitiveservices account show -n $openai_svc_name -g $openai_rg_name "
   ]
  },
  {
   "cell_type": "code",
   "execution_count": 6,
   "metadata": {},
   "outputs": [
    {
     "name": "stderr",
     "output_type": "stream",
     "text": [
      "ERROR: (DisallowedProvider) The operation is not permitted for namespace 'Microsoft.CognitiveServices'. List of permitted provider namespaces is 'Microsoft.Authorization,Microsoft.Billing,Microsoft.Education,Microsoft.Features,microsoft.insights,Microsoft.NotificationHubs,Microsoft.Resources,Microsoft.Sql,Microsoft.Subscription,microsoft.support,microsoft.visualstudio,Microsoft.Web'.\n",
      "Code: DisallowedProvider\n",
      "Message: The operation is not permitted for namespace 'Microsoft.CognitiveServices'. List of permitted provider namespaces is 'Microsoft.Authorization,Microsoft.Billing,Microsoft.Education,Microsoft.Features,microsoft.insights,Microsoft.NotificationHubs,Microsoft.Resources,Microsoft.Sql,Microsoft.Subscription,microsoft.support,microsoft.visualstudio,Microsoft.Web'.\n"
     ]
    }
   ],
   "source": [
    "!az cognitiveservices account keys list -n $openai_svc_name -g $openai_rg_name "
   ]
  },
  {
   "cell_type": "code",
   "execution_count": 7,
   "metadata": {},
   "outputs": [
    {
     "name": "stderr",
     "output_type": "stream",
     "text": [
      "ERROR: (DisallowedProvider) The operation is not permitted for namespace 'Microsoft.CognitiveServices'. List of permitted provider namespaces is 'Microsoft.Authorization,Microsoft.Billing,Microsoft.Education,Microsoft.Features,microsoft.insights,Microsoft.NotificationHubs,Microsoft.Resources,Microsoft.Sql,Microsoft.Subscription,microsoft.support,microsoft.visualstudio,Microsoft.Web'.\n",
      "Code: DisallowedProvider\n",
      "Message: The operation is not permitted for namespace 'Microsoft.CognitiveServices'. List of permitted provider namespaces is 'Microsoft.Authorization,Microsoft.Billing,Microsoft.Education,Microsoft.Features,microsoft.insights,Microsoft.NotificationHubs,Microsoft.Resources,Microsoft.Sql,Microsoft.Subscription,microsoft.support,microsoft.visualstudio,Microsoft.Web'.\n"
     ]
    }
   ],
   "source": [
    "# Deploy a model\n",
    "search_doc_deployment_name = 'curie-search-doc'\n",
    "search_doc_model = 'text-search-curie-doc-001'\n",
    "search_query_deployment_name = 'curie-search-query'\n",
    "search_query_model = 'text-search-curie-query-001'\n",
    "text_deployment_name = 'text-davinci-002'\n",
    "text_model = 'text-davinci-002'\n",
    "\n",
    "!az cognitiveservices account deployment create -g $openai_rg_name -n $openai_svc_name --deployment-name $search_doc_deployment_name --model-name $search_doc_model --model-version \"1\"  --model-format OpenAI --scale-settings-scale-type \"Standard\""
   ]
  },
  {
   "cell_type": "code",
   "execution_count": 8,
   "metadata": {},
   "outputs": [
    {
     "name": "stderr",
     "output_type": "stream",
     "text": [
      "ERROR: (DisallowedProvider) The operation is not permitted for namespace 'Microsoft.CognitiveServices'. List of permitted provider namespaces is 'Microsoft.Authorization,Microsoft.Billing,Microsoft.Education,Microsoft.Features,microsoft.insights,Microsoft.NotificationHubs,Microsoft.Resources,Microsoft.Sql,Microsoft.Subscription,microsoft.support,microsoft.visualstudio,Microsoft.Web'.\n",
      "Code: DisallowedProvider\n",
      "Message: The operation is not permitted for namespace 'Microsoft.CognitiveServices'. List of permitted provider namespaces is 'Microsoft.Authorization,Microsoft.Billing,Microsoft.Education,Microsoft.Features,microsoft.insights,Microsoft.NotificationHubs,Microsoft.Resources,Microsoft.Sql,Microsoft.Subscription,microsoft.support,microsoft.visualstudio,Microsoft.Web'.\n",
      "ERROR: (DisallowedProvider) The operation is not permitted for namespace 'Microsoft.CognitiveServices'. List of permitted provider namespaces is 'Microsoft.Authorization,Microsoft.Billing,Microsoft.Education,Microsoft.Features,microsoft.insights,Microsoft.NotificationHubs,Microsoft.Resources,Microsoft.Sql,Microsoft.Subscription,microsoft.support,microsoft.visualstudio,Microsoft.Web'.\n",
      "Code: DisallowedProvider\n",
      "Message: The operation is not permitted for namespace 'Microsoft.CognitiveServices'. List of permitted provider namespaces is 'Microsoft.Authorization,Microsoft.Billing,Microsoft.Education,Microsoft.Features,microsoft.insights,Microsoft.NotificationHubs,Microsoft.Resources,Microsoft.Sql,Microsoft.Subscription,microsoft.support,microsoft.visualstudio,Microsoft.Web'.\n"
     ]
    }
   ],
   "source": [
    "!az cognitiveservices account deployment create -g $openai_rg_name -n $openai_svc_name --deployment-name $search_query_deployment_name --model-name $search_query_model --model-version \"1\"  --model-format OpenAI --scale-settings-scale-type \"Standard\"\n",
    "!az cognitiveservices account deployment create -g $openai_rg_name -n $openai_svc_name --deployment-name $text_deployment_name --model-name $text_model --model-version \"1\"  --model-format OpenAI --scale-settings-scale-type \"Standard\""
   ]
  },
  {
   "cell_type": "code",
   "execution_count": null,
   "metadata": {},
   "outputs": [],
   "source": []
  }
 ],
 "metadata": {
  "kernelspec": {
   "display_name": "azureml_py310_sdkv2",
   "language": "python",
   "name": "python3"
  },
  "language_info": {
   "codemirror_mode": {
    "name": "ipython",
    "version": 3
   },
   "file_extension": ".py",
   "mimetype": "text/x-python",
   "name": "python",
   "nbconvert_exporter": "python",
   "pygments_lexer": "ipython3",
   "version": "3.11.3"
  },
  "orig_nbformat": 4,
  "vscode": {
   "interpreter": {
    "hash": "2139c70ac98f3202d028164a545621647e07f47fd6f5d8ac55cf952bf7c15ed1"
   }
  }
 },
 "nbformat": 4,
 "nbformat_minor": 2
}
