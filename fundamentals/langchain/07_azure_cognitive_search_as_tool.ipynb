{
 "cells": [
  {
   "cell_type": "code",
   "execution_count": 1,
   "metadata": {},
   "outputs": [
    {
     "ename": "ModuleNotFoundError",
     "evalue": "No module named 'langchain'",
     "output_type": "error",
     "traceback": [
      "\u001b[1;31m---------------------------------------------------------------------------\u001b[0m",
      "\u001b[1;31mModuleNotFoundError\u001b[0m                       Traceback (most recent call last)",
      "Cell \u001b[1;32mIn[1], line 1\u001b[0m\n\u001b[1;32m----> 1\u001b[0m \u001b[39mfrom\u001b[39;00m \u001b[39mlangchain\u001b[39;00m\u001b[39m.\u001b[39;00m\u001b[39mllms\u001b[39;00m \u001b[39mimport\u001b[39;00m AzureOpenAI\n\u001b[0;32m      2\u001b[0m \u001b[39mimport\u001b[39;00m \u001b[39mos\u001b[39;00m\n\u001b[0;32m      3\u001b[0m \u001b[39mfrom\u001b[39;00m \u001b[39mdotenv\u001b[39;00m \u001b[39mimport\u001b[39;00m load_dotenv\n",
      "\u001b[1;31mModuleNotFoundError\u001b[0m: No module named 'langchain'"
     ]
    }
   ],
   "source": [
    "from langchain.llms import AzureOpenAI\n",
    "import os\n",
    "from dotenv import load_dotenv\n",
    "from langchain.agents import load_tools\n",
    "from langchain.agents import initialize_agent, Tool\n",
    "from AzureOpenAIUtil.AzureCognitiveSearch import AzureCognitiveSearchWrapper\n",
    "load_dotenv()\n",
    "search = AzureCognitiveSearchWrapper(result_field_list=['highlights','article'], k=3)\n",
    "# Next, let's load some tools to use. Note that the `llm-math` tool uses an LLM, so we need to pass that in.\n",
    "\n",
    "llm = AzureOpenAI(temperature=0, deployment_name=os.getenv('DEPLOYMENT_NAME')) \n",
    "tools = [\n",
    "    Tool(\n",
    "        name=\"Intermediate Answer\",\n",
    "        func=search.run,\n",
    "        description=''\n",
    "    )\n",
    "]\n",
    "\n",
    "# Finally, let's initialize an agent with the tools, the language model, and the type of agent we want to use.\n",
    "agent = initialize_agent(tools, llm, agent=\"self-ask-with-search\",  verbose=True)\n",
    "\n",
    "# Now let's test it out!\n",
    "result = agent.run(\"Who are top 2 competitors for Hillary Clinton in 2020 president election? Explain the reasons.\")\n",
    "print(result)"
   ]
  },
  {
   "cell_type": "code",
   "execution_count": null,
   "metadata": {},
   "outputs": [
    {
     "ename": "NameError",
     "evalue": "name 'AzureCognitiveSearchWrapper' is not defined",
     "output_type": "error",
     "traceback": [
      "\u001b[1;31m---------------------------------------------------------------------------\u001b[0m",
      "\u001b[1;31mNameError\u001b[0m                                 Traceback (most recent call last)",
      "Cell \u001b[1;32mIn[7], line 1\u001b[0m\n\u001b[1;32m----> 1\u001b[0m search \u001b[39m=\u001b[39m AzureCognitiveSearchWrapper(result_field_list\u001b[39m=\u001b[39m[\u001b[39m'\u001b[39m\u001b[39mhighlights\u001b[39m\u001b[39m'\u001b[39m,\u001b[39m'\u001b[39m\u001b[39marticle\u001b[39m\u001b[39m'\u001b[39m], k\u001b[39m=\u001b[39m\u001b[39m1\u001b[39m)\n\u001b[0;32m      2\u001b[0m \u001b[39m# Next, let's load some tools to use. Note that the `llm-math` tool uses an LLM, so we need to pass that in.\u001b[39;00m\n\u001b[0;32m      4\u001b[0m llm \u001b[39m=\u001b[39m AzureOpenAI(temperature\u001b[39m=\u001b[39m\u001b[39m0\u001b[39m, deployment_name\u001b[39m=\u001b[39mos\u001b[39m.\u001b[39mgetenv(\u001b[39m'\u001b[39m\u001b[39mDEPLOYMENT_NAME\u001b[39m\u001b[39m'\u001b[39m)) \n",
      "\u001b[1;31mNameError\u001b[0m: name 'AzureCognitiveSearchWrapper' is not defined"
     ]
    }
   ],
   "source": [
    "search = AzureCognitiveSearchWrapper(result_field_list=['highlights','article'], k=1)\n",
    "# Next, let's load some tools to use. Note that the `llm-math` tool uses an LLM, so we need to pass that in.\n",
    "\n",
    "llm = AzureOpenAI(temperature=0, deployment_name=os.getenv('DEPLOYMENT_NAME')) \n",
    "tools = [\n",
    "    Tool(\n",
    "        name=\"Intermediate Answer\",\n",
    "        func=search.run,\n",
    "        description=''\n",
    "    )\n",
    "]\n",
    "\n",
    "# Finally, let's initialize an agent with the tools, the language model, and the type of agent we want to use.\n",
    "agent = initialize_agent(tools, llm, agent=\"self-ask-with-search\",  verbose=True)\n",
    "\n",
    "# Now let's test it out!\n",
    "\n",
    "result = agent.run(\"Will Hillary Clinton participate for 2020 president election? Explain the reason why she would and why she won't\")\n",
    "print(result)"
   ]
  },
  {
   "cell_type": "code",
   "execution_count": null,
   "metadata": {},
   "outputs": [
    {
     "name": "stdout",
     "output_type": "stream",
     "text": [
      "\n",
      "\n",
      "\u001b[1m> Entering new AgentExecutor chain...\u001b[0m\n",
      "\u001b[32;1m\u001b[1;3m Yes.\n",
      "Follow up: What is the current status of the 2020 election?\u001b[0m\n",
      "Intermediate answer: \u001b[36;1m\u001b[1;3mhighlights: Dr Mark Porter said election winner will be tempted to bring in charges .\n",
      "NHS England forecast a £30bn budget gap  by 2020 unless savings made . article: NHS finances are so dire that patients could soon be forced to pay to use basic services such as GPs, doctors leaders warned last night. Dr Mark Porter, head of the British Medical Association, the doctors’ union, said that whoever wins the election will inevitably be tempted to bring in charges. All three major parties have denied there will be any end to the principle that the NHS should be free at the point of use. Dr Mark Porter, head of the British Medical Association, the doctors’ union, said that whoever wins the election will inevitably be tempted to bring in charges . Critics will say that if GPs had not enjoyed such enormous pay rises over the past decade, there would be much more money around. In an interview with the Guardian, Dr Porter said of the parties fighting the election: ‘I think they will be tempted. They said in 1950 that a Labour government wouldn’t introduce charging and it did.’ The introduction of prescription charges prompted NHS founder Nye Bevan to resign from Clement Attlee’s government in April 1951. Dr Porter said it was ‘inescapable’ that the next government would consider introducing fees as a way of tackling the £30billion budget gap that NHS England has forecast will open by 2020 unless it achieves its target of £22billion in efficiency savings and receives £8billion of extra annual funding. He said: ‘Could a future government be tempted? Yes, they could, but they must resist that temptation.’ Critics will say that if GPs had not enjoyed such enormous pay rises over the past decade, there would be much more money around . highlights: Labour claims NHS 'cannot survive' another 5 years of Tory government .\n",
      "Party points to figures showing a decline in standards in the health service .\n",
      "It claims if standards continue to drop at the current rate millions  will suffer .\n",
      "But the Tories said Labour the warning marked a 'new low' for Labour .\n",
      "Claimed Ed Miliband was making good on pledge to 'weaponise' the NHS . article: More than four million people will be stuck on hospital waiting lists – and a further 20 million unable to get a doctor's appointment within a week if the Tories are re-elected, Labour claimed today. Ed Balls and the shadow health secretary Andy Burnham made the stark warning this morning, warning that the NHS 'cannot survive' another five years of the Tories in government. The Labour frontbenchers, launching a week of Labour attacks on the NHS, said there had been a 'dramatic decline in standards' in the NHS over the past five years. Shadow chancellor Ed Balls said if standards continued to decline at the current rate, then by 2020 millions more will face long waits in A&E and long waits to see GPs . He said if standards continued to decline at the current rate then by 2020 millions more will face long waits in A&E and long waits to see GPs. Ambulance response times for the most serious call-outs will rise to over nine minutes, 500,000 fewer older people will receive social care and 600,000 people will be forced to wait for more than four hours on trolleys on A&E, Mr Burnham warned. Labour said the figures were based on the latest official NHS data. In the latest GP-patient Survey, 10.9 per cent of people say they were unable to get an appointment with a GP the last time they tried. This is up from 9.6 per cent in 2012. On this trend, by 2020, 14.8 per cent of people, some 8.4 million people, will be unable to get a GP appointment. A further 14.4 per cent of people are now waiting more than a week for a GP appointment. This is up from 12.0 per cent in 2012. If this trend continues, some 21.7 per cent of people – more than 12.3 million people – will wait a week or more. A further two million a year will be forced to wait over four hours in A&E – up from 1.4million last year and just 350,000 in 2009/10. Shadow  health secretary Andy Burnham said four million people will be stuck on hospital waiting lists – and a further 20 million unable to get a doctor's appointment within a week if the Tories are re-elected . Hospital waiting lists are also set to spike, Labour said. In May 2010, there were 2.57 million people on the English waiting list – but by February this year, this had grown to 3.15million. On this trend, there will be 3.8 million people on the waiting list by May 2020. Labour said more than 100,000 operations will be cancelled in 2020 – up from . Over 27,000 operations will be cancelled every year in 2020 – up from 13,000 in 2010 – with 600,000 a year waiting longer than four hours on trolleys. Nicola Sturgeon today attempted to trump Labour on the NHS with a pledge to increase its budget by more than £8billion . Ambulance call out times are also under growing pressure, Labour said. In April 2011, the average ambulance response time for immediately life-threatening call-outs was 5.30 minutes. By February 2015 response times had risen by 1.6 minutes to 6.91 minutes. If this trend were to continue over the next five years, the average ambulance response time in May 2020 would be 9.12 minutes, an increase of over two thirds on 2010. The Tories said Labour were using the NHS as a political football. A Conservative spokesperson said: 'This marks a new low in Ed Miliband's desperate attempts to weaponise the NHS. His credibility on health is in tatters because he refuses to fund the £8 billion the NHS needs. 'By building a stronger economy, we have protected and improved the NHS with 9,500 more doctors, 6,900 more nurses, and 1.3 million more life-saving operations every year. 'There is only one threat to the future of our NHS and that is the economic chaos of an Ed Miliband-SNP government.' The future of the straining health service has become one of the key battlegrounds of the General Election, with Conservatives and Liberal Democrats pledging to find the £8 billion health chiefs say is needed by 2020 to prevent it buckling. Labour has refused to commit to providing the same amount but insists it will do 'what is necessary' and says its £2.5 billion spending plans are the only fully-funded proposals put forward so far. In an election dossier on the NHS, Labour accuse the Tories of having a secret plan for NHS charging. It claims public spending under the Conservatives would drop to levels similar to countries that have greater charging in healthcare, such as Switzerland, Mexico and Chile. At the launch of Labour's week of NHS campaigning, shadow health secretary Andy Burnham said: 'This is the real face of the Tory Party. They have let the cat out of the bag - five more years of David Cameron means more NHS privatisation and charging. 'It is clear that, just like last time, Cameron's NHS promises have an expiry date of election day stamped on them. He promised no top-down reorganisation and brought forward the biggest-ever top-down reorganisation. If he gets back in, the NHS will be sunk by a toxic mix of cuts and privatisation.' David Cameron and George Osborne, at a campaign event in Crewe this morning, have accused the Labour Party of using the NHS as a political football . Shadow chancellor Ed Balls added: 'David Cameron is a serial offender when it comes to claims at election time. He broke his promises on the NHS, on VAT and on tax credits last time. And he'll break his promises again. 'Because on top of their extreme spending plans to double the cuts next year, the Tories have made billions of pounds of unfunded commitments in this election, including £10 billion of tax cuts and billions of pounds for rail fare freezes and paid time off for public servants to volunteer. 'And these unfunded promises will come before the NHS in the queue.' In a speech to the Scottish Trades Union Congress Mr Miliband will say: 'The Tory plans on the NHS are a double deceit. 'They are not being straight about their extreme plans to double the cuts to public services next year. 'And they are not being straight when they promise to protect the NHS, but cannot say where a penny of additional money will come from. 'This double deceit is a double danger to the NHS. They have extreme spending plans and they can't tell us where the money is coming from. 'David Cameron poses a risk to the very fabric and foundation of our NHS. 'That's why we will fight every day to May 7 to stop a Tory plan that threatens our NHS. 'And it's why we have a different approach. 'A fully funded plan, with a mansion tax on properties worth over £2 million to pay for more nurses and doctors in every part of the United Kingdom.'\u001b[0m\n",
      "\u001b[32;1m\u001b[1;3mSo the final answer is: Labour claims NHS 'cannot survive' another 5 years of Tory government; Party points to figures showing a decline in standards in the health service; It claims if standards continue to drop at the current rate millions will suffer; Shadow chancellor Ed Balls said if standards continued to decline at the current rate then by 2020 millions more will face long waits in A&E and long waits to see GPs; Hospital waiting lists are also set to spike; Ambulance call out times are also under growing pressure; Over 27,000 operations will be cancelled every year in 2020; Over 600,000 people will be forced to wait for more than four hours on trolleys on A&E; Shadow health secretary Andy Burnham said four million people will be stuck on hospital waiting lists – and a further 20 million unable to get a doctor's appointment within a week if the Tories are re-elected; David Cameron and George Osborne have accused the Labour Party of using the NHS as a political football.\u001b[0m\n",
      "\n",
      "\u001b[1m> Finished chain.\u001b[0m\n",
      "Labour claims NHS 'cannot survive' another 5 years of Tory government; Party points to figures showing a decline in standards in the health service; It claims if standards continue to drop at the current rate millions will suffer; Shadow chancellor Ed Balls said if standards continued to decline at the current rate then by 2020 millions more will face long waits in A&E and long waits to see GPs; Hospital waiting lists are also set to spike; Ambulance call out times are also under growing pressure; Over 27,000 operations will be cancelled every year in 2020; Over 600,000 people will be forced to wait for more than four hours on trolleys on A&E; Shadow health secretary Andy Burnham said four million people will be stuck on hospital waiting lists – and a further 20 million unable to get a doctor's appointment within a week if the Tories are re-elected; David Cameron and George Osborne have accused the Labour Party of using the NHS as a political football.\n"
     ]
    }
   ],
   "source": [
    "search = AzureCognitiveSearchWrapper(result_field_list=['highlights','article'], k=2)\n",
    "# Next, let's load some tools to use. Note that the `llm-math` tool uses an LLM, so we need to pass that in.\n",
    "\n",
    "llm = AzureOpenAI(temperature=0, deployment_name=os.getenv('DEPLOYMENT_NAME')) \n",
    "tools = [\n",
    "    Tool(\n",
    "        name=\"Intermediate Answer\",\n",
    "        func=search.run,\n",
    "        description=''\n",
    "    )\n",
    "]\n",
    "\n",
    "# Finally, let's initialize an agent with the tools, the language model, and the type of agent we want to use.\n",
    "agent = initialize_agent(tools, llm, agent=\"self-ask-with-search\",  verbose=True)\n",
    "\n",
    "# Now let's test it out!\n",
    "\n",
    "result = agent.run(\"What are the news that could cause Clinton to lose 2020 election?\")\n",
    "print(result)"
   ]
  },
  {
   "cell_type": "code",
   "execution_count": null,
   "metadata": {},
   "outputs": [
    {
     "name": "stdout",
     "output_type": "stream",
     "text": [
      "\n",
      "\n",
      "\u001b[1m> Entering new AgentExecutor chain...\u001b[0m\n",
      "\u001b[32;1m\u001b[1;3m I should research the potential reasons why Clinton might lose the 2020 election\n",
      "Action: Research\n",
      "Action Input: Reasons why Clinton might lose the 2020 election\u001b[0m\n",
      "Observation: \u001b[36;1m\u001b[1;3mhighlights: The posters feature a portrait of Clinton with phrases including 'Don't Say Ambitious' and 'Don't Say Entitled'\n",
      "Street art appears to be a dig at Clinton supporters who said words like 'entitled' and 'secretive' which are used to describe her, are sexist .\n",
      "On Sunday, anti-Hillary Clinton users shared on Twitter reasons why they will not vote for her using the hashtag that began trending online . article: Anti-Hillary Clinton street art emerged in Brooklyn just hours before Clinton's presidential candidacy announcement on Sunday. The signs feature portraits of Clinton with phrases including 'Dont Say Secretive', 'Don't Say Entitled' and 'Don't Say Ambitious'. The street art appears to be a dig at a group of Clinton supporters who said it would be on the look out for evidence of sexism in reporting about the Democratic politician, according to the Weekly Standard. Last month, the New York Times' Amy Chozick brought attention to the efforts made by the group, which goes by the name of 'HRC Super Volunteers'. The descriptive terms that Clinton's fan club said it does not want applied to their candidate include 'polarizing, calculating, disingenuous, insincere, ambitious, inevitable, entitled' and 'over confident.' Scroll down for videos . Pedestrians walk past an anti-Hillary Clinton poster that says 'Don't Say Secretive' across the street from the purported Clinton campaign headquarters on Sunday in Brooklyn, New York . Another anti-Hillary Clinton poster that says 'Don't Say Entitled' is affixed to a traffic light across the street from Clinton campaign headquarters where her growing staffers began working on Friday . The posters are said to have appeared in Brooklyn on Saturday night near her campaign's new headquarters in the borough, where staffers began working on Friday. It is not known who created or posted the Brooklyn street art. Following Clinton's announcement on Sunday, a hashtag on Twitter also began trending called #WhyImNotVotingForHillary. In this image taken from video posted to hillaryclinton.com on Sunday, Hillary Rodham Clinton announces her campaign for president . A wave of users began using the hashtag giving their reasons for why they would not be voting for the Democratic candidate. One user wrote: '#WhyImNotVotingForHillary #benghazi plus I can't think of anything good she has done.' Another Twitter user wrote: '#WhyImNotVotingForHillary because my vote is based on candidate w integrity, forthrightness & beliefs close to mine, none of which she has.' Following Clinton's announcement on Sunday afternoon, a hasthag on Twitter began trending called #WhyImNotVotingForHillary. Above a user wrote he would not be voting for Clinton because of Benghazi . Another user wrote: 'My vote is based on candidate w integrity, forthrightness & beliefs close to mine, none of which she has' while using the anti-Hillary hashtag . Other users wrote that they are not voting for Hillary because they said 'we need more people like Reagan'. The trending hashtag appears to be started by 19-year-old Markeece Young from North Carolina who rallied users on Saturday night to make it trend on Sunday following Clinton's announcement that she was running for president. On Facebook he wrote: 'Well when I heard Hillary was announcing her campaign on Twitter I came up with the Idea to create ‪#‎WhyImNotVotingForHillary‬ it's simple but very powerful. It was the #1 trending hashtag in America for about 3 hours. On Saturday, user @YoungBLKRepub also known as Markeece Young wrote on Twitter to get the hashtag trending on Sunday when Clinton was scheduled to announce she was running for president . 'The Hillary Clinton campaign had it removed, that's right Hillary Clinton's campaign can delete the #1 hashtag in America for a cost of money. 'I'm proud that people helped me make a statement, I can say I've been causing Hillary problems since day one of her campaign. How many people can say they started the #1 hashtag in the USA and had it deleted by Hillary herself?' Clinton made her presidential campaign announcement on Sunday afternoon  leaning on a message of middle-class rescue and claims that America's economy is 'still stacked in favor of those at the top,' according to the campaign video. highlights: Dr Mark Porter said election winner will be tempted to bring in charges .\n",
      "NHS England forecast a £30bn budget gap  by 2020 unless savings made . article: NHS finances are so dire that patients could soon be forced to pay to use basic services such as GPs, doctors leaders warned last night. Dr Mark Porter, head of the British Medical Association, the doctors’ union, said that whoever wins the election will inevitably be tempted to bring in charges. All three major parties have denied there will be any end to the principle that the NHS should be free at the point of use. Dr Mark Porter, head of the British Medical Association, the doctors’ union, said that whoever wins the election will inevitably be tempted to bring in charges . Critics will say that if GPs had not enjoyed such enormous pay rises over the past decade, there would be much more money around. In an interview with the Guardian, Dr Porter said of the parties fighting the election: ‘I think they will be tempted. They said in 1950 that a Labour government wouldn’t introduce charging and it did.’ The introduction of prescription charges prompted NHS founder Nye Bevan to resign from Clement Attlee’s government in April 1951. Dr Porter said it was ‘inescapable’ that the next government would consider introducing fees as a way of tackling the £30billion budget gap that NHS England has forecast will open by 2020 unless it achieves its target of £22billion in efficiency savings and receives £8billion of extra annual funding. He said: ‘Could a future government be tempted? Yes, they could, but they must resist that temptation.’ Critics will say that if GPs had not enjoyed such enormous pay rises over the past decade, there would be much more money around . highlights: S.E. Cupp: Clinton making women central to outreach, but she should really focus on men .\n",
      "In 2014 election, overplaying to one gender failed -- particularly with \"war on women\" article: (CNN)It's clear from Hillary Clinton's campaign rollout -- a video announcement/campaign ad/short film that debuted Sunday afternoon -- that she will make women and being a woman central to her outreach. In case you're skeptical, Vox has posted a handy \"by the numbers\" for her campaign video, and there are 38 people besides Clinton in the two-minute ad. Twenty of them are women. There are three separate mentions of motherhood. This is all fine and good (and predictable) if you acknowledge that the proportion of women who vote has exceeded the proportion of men who vote in every presidential election since 1980. And let's not overlook the fact that Clinton is in fact a woman, and that's a fine thing to celebrate. But in reality, she doesn't have to wonder if a woman-centered campaign is the best strategy. She can simply look back to the most recent elections to see that overplaying to one half of the eligible-voting population failed spectacularly all over the country, in red and blue states, when that strategy was employed by both male and female candidates. As I've previously written, the 2014 midterm elections saw the death of a political meme: the \"war on women.\" Granted, that's not because Republicans convinced the country that they were the party of women. But it is noteworthy that Democrats who overtly pandered to women at the expense of real issues (and men) crashed and burned. To wit: . In Colorado, Sen. Mark Udall was nicknamed \"Mark Uterus\" for all the time he spent fear-mongering on women's reproductive issues, only to end up, according to exit polls, eight points ahead among women. His opponent, Cory Gardner, finished 17 points ahead among men. In New York, a Democratic candidate for Congress, Martha Robertson, drew laughs from the audience during a debate for accusing her opponent of engaging in a \"war on women.\" To repeat, she was a woman, a Democrat, in New York. In Louisiana, Sen. Mary Landrieu sought to give her ailing campaign a boost in by part blaming sexism for Democrats' lack of popularity in the South. Not surprisingly, Southerners voted for her opponent, Bill Cassidy. In Texas, where liberal Wendy Davis ran almost entirely on an abortion-rights platform, she accused Republicans of sexism for daring to scrutinize her inaccurate biography. Her opponent, Greg Abbott, won by 20 points, and Davis only ended up with 47% of the women vote. Whether in Texas or Colorado, New York or Louisiana, voters made it clear they cared about more than just reproductive issues and weren't going to be bullied into voting Democratic by false cries of sexism. But while Democrats were screaming about the Republicans' \"war on women,\" few in the media acknowledged that the Democrats' deficit among men was actually greater than the Republicans' deficit among women. Exit polls in 2014 showed that men voted for Republicans over Democrats by a 16-point margin, and women voted for Democrats by only a four-point margin. Regardless of whom Republicans run for president, Hillary Clinton will most likely get the women vote. What she needs are men. So instead of running a woman-centered campaign, she might want to figure out a way to court the other sex.\u001b[0m\n",
      "Thought:\u001b[32;1m\u001b[1;3m I now know the final answer\n",
      "Final Answer: Clinton should focus on a campaign that appeals to both men and women, rather than just women, in order to have a better chance of winning the 2020 election. She should avoid overplaying to one gender, as this strategy failed in the 2014 election, particularly with the \"war on women\" meme.\u001b[0m\n",
      "\n",
      "\u001b[1m> Finished chain.\u001b[0m\n",
      "Clinton should focus on a campaign that appeals to both men and women, rather than just women, in order to have a better chance of winning the 2020 election. She should avoid overplaying to one gender, as this strategy failed in the 2014 election, particularly with the \"war on women\" meme.\n"
     ]
    }
   ],
   "source": [
    "search = AzureCognitiveSearchWrapper(result_field_list=['highlights','article'], k=3)\n",
    "tools = [\n",
    "    Tool(\n",
    "        name=\"Research\",\n",
    "        func=search.run,\n",
    "        description=''\n",
    "    )\n",
    "]\n",
    "agent = initialize_agent(tools, llm, agent=\"zero-shot-react-description\", verbose=True)\n",
    "\n",
    "# Now let's test it out!\n",
    "result = agent(\"What might cause Clinton to lose 2020 election?Explain the reasons.\")\n",
    "print(result['output'])"
   ]
  },
  {
   "cell_type": "code",
   "execution_count": null,
   "metadata": {},
   "outputs": [],
   "source": [
    "import openai\n",
    "from typing import Optional\n",
    "\n",
    "class MyChatbot:\n",
    "    def __init__(self, chatbot_config):\n",
    "        self.chatbot_config = chatbot_config\n",
    "    \n",
    "    def on_message(self, message, callback):\n",
    "        response = self.handle_message(message)\n",
    "        callback(response)\n",
    "    \n",
    "    def handle_message(self, message):\n",
    "        # Gérer le message de l'utilisateur et envoyer une réponse\n",
    "        # (implémentation dépend des détails de votre interface de chat)\n",
    "        pass\n",
    "\n",
    "chatbot_config = {\n",
    "    \"SecuritySettings\": {\n",
    "        \"RestrictedNames\": None,\n",
    "        \"RestrictedWords\": None,\n",
    "        \"RestrictedResponses\": None,\n",
    "        \"MaxMessageLength\": None,\n",
    "        \"LinkProfanityFilter\": False\n",
    "    }\n",
    "    # autres configurations...\n",
    "}\n",
    "\n",
    "chatbot = MyChatbot(chatbot_config)\n",
    "\n",
    "def send_response(response):\n",
    "    # Envoyer la réponse à l'utilisateur\n",
    "    # (implémentation dépend des détails de votre interface de chat)\n",
    "    pass\n",
    "\n",
    "# Exemple d'utilisation\n",
    "message = \"Bonjour, comment ça va ?\"\n",
    "chatbot.on_message(message, send_response)\n"
   ]
  }
 ],
 "metadata": {
  "kernelspec": {
   "display_name": "azureml_py310_sdkv2",
   "language": "python",
   "name": "python3"
  },
  "language_info": {
   "codemirror_mode": {
    "name": "ipython",
    "version": 3
   },
   "file_extension": ".py",
   "mimetype": "text/x-python",
   "name": "python",
   "nbconvert_exporter": "python",
   "pygments_lexer": "ipython3",
   "version": "3.11.3"
  },
  "orig_nbformat": 4
 },
 "nbformat": 4,
 "nbformat_minor": 2
}
